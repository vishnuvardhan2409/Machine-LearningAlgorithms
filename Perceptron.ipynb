{
 "cells": [
  {
   "cell_type": "markdown",
   "metadata": {},
   "source": [
    "# Perceptron"
   ]
  },
  {
   "cell_type": "code",
   "execution_count": 1,
   "metadata": {},
   "outputs": [],
   "source": [
    "import pandas as pd \n",
    "import matplotlib.pyplot as plt"
   ]
  },
  {
   "cell_type": "code",
   "execution_count": 2,
   "metadata": {},
   "outputs": [
    {
     "data": {
      "text/html": [
       "<div>\n",
       "<style scoped>\n",
       "    .dataframe tbody tr th:only-of-type {\n",
       "        vertical-align: middle;\n",
       "    }\n",
       "\n",
       "    .dataframe tbody tr th {\n",
       "        vertical-align: top;\n",
       "    }\n",
       "\n",
       "    .dataframe thead th {\n",
       "        text-align: right;\n",
       "    }\n",
       "</style>\n",
       "<table border=\"1\" class=\"dataframe\">\n",
       "  <thead>\n",
       "    <tr style=\"text-align: right;\">\n",
       "      <th></th>\n",
       "      <th>sleep_proportion</th>\n",
       "      <th>grumpy_proportion</th>\n",
       "      <th>prediction</th>\n",
       "    </tr>\n",
       "  </thead>\n",
       "  <tbody>\n",
       "    <tr>\n",
       "      <th>0</th>\n",
       "      <td>0.2</td>\n",
       "      <td>0.3</td>\n",
       "      <td>kitten</td>\n",
       "    </tr>\n",
       "    <tr>\n",
       "      <th>1</th>\n",
       "      <td>0.4</td>\n",
       "      <td>0.2</td>\n",
       "      <td>kitten</td>\n",
       "    </tr>\n",
       "    <tr>\n",
       "      <th>2</th>\n",
       "      <td>0.5</td>\n",
       "      <td>0.3</td>\n",
       "      <td>kitten</td>\n",
       "    </tr>\n",
       "    <tr>\n",
       "      <th>3</th>\n",
       "      <td>0.7</td>\n",
       "      <td>0.9</td>\n",
       "      <td>adult</td>\n",
       "    </tr>\n",
       "  </tbody>\n",
       "</table>\n",
       "</div>"
      ],
      "text/plain": [
       "   sleep_proportion  grumpy_proportion prediction\n",
       "0               0.2                0.3     kitten\n",
       "1               0.4                0.2     kitten\n",
       "2               0.5                0.3     kitten\n",
       "3               0.7                0.9      adult"
      ]
     },
     "execution_count": 2,
     "metadata": {},
     "output_type": "execute_result"
    }
   ],
   "source": [
    "df=pd.DataFrame({'sleep_proportion':[0.2,0.4,0.5,0.7],'grumpy_proportion':[0.3,0.2,0.3,0.9],'prediction':['kitten','kitten','kitten','adult']})\n",
    "df.head()\n"
   ]
  },
  {
   "cell_type": "code",
   "execution_count": 3,
   "metadata": {},
   "outputs": [
    {
     "name": "stdout",
     "output_type": "stream",
     "text": [
      "   sleep_proportion  grumpy_proportion prediction\n",
      "0               0.2                0.3     kitten\n",
      "1               0.4                0.2     kitten\n",
      "2               0.5                0.3     kitten\n",
      "   sleep_proportion  grumpy_proportion prediction\n",
      "3               0.7                0.9      adult\n"
     ]
    }
   ],
   "source": [
    "kittens=df[df['prediction']=='kitten']\n",
    "adults=df[df['prediction']=='adult']\n",
    "print(kittens)\n",
    "print(adults)"
   ]
  },
  {
   "cell_type": "code",
   "execution_count": 4,
   "metadata": {},
   "outputs": [
    {
     "data": {
      "text/plain": [
       "<matplotlib.legend.Legend at 0x8d70640>"
      ]
     },
     "execution_count": 4,
     "metadata": {},
     "output_type": "execute_result"
    },
    {
     "data": {
      "image/png": "[encoded data removed]",
      "text/plain": [
       "<Figure size 432x288 with 1 Axes>"
      ]
     },
     "metadata": {
      "needs_background": "light"
     },
     "output_type": "display_data"
    }
   ],
   "source": [
    "plt.scatter(kittens['sleep_proportion'],kittens['grumpy_proportion'],color='r',label='kittens')\n",
    "plt.scatter(adults['sleep_proportion'],adults['grumpy_proportion'],label='adults',color='b')\n",
    "plt.axis([0,1,0,1])\n",
    "plt.xlabel('sleep_proportion')\n",
    "plt.ylabel('grumpy_proportion')\n",
    "plt.grid(color='g')\n",
    "plt.legend()"
   ]
  },
  {
   "cell_type": "code",
   "execution_count": 5,
   "metadata": {},
   "outputs": [
    {
     "data": {
      "text/html": [
       "<div>\n",
       "<style scoped>\n",
       "    .dataframe tbody tr th:only-of-type {\n",
       "        vertical-align: middle;\n",
       "    }\n",
       "\n",
       "    .dataframe tbody tr th {\n",
       "        vertical-align: top;\n",
       "    }\n",
       "\n",
       "    .dataframe thead th {\n",
       "        text-align: right;\n",
       "    }\n",
       "</style>\n",
       "<table border=\"1\" class=\"dataframe\">\n",
       "  <thead>\n",
       "    <tr style=\"text-align: right;\">\n",
       "      <th></th>\n",
       "      <th>sleep_proportion</th>\n",
       "      <th>grumpy_proportion</th>\n",
       "      <th>prediction</th>\n",
       "      <th>bprediction</th>\n",
       "    </tr>\n",
       "  </thead>\n",
       "  <tbody>\n",
       "    <tr>\n",
       "      <th>0</th>\n",
       "      <td>0.2</td>\n",
       "      <td>0.3</td>\n",
       "      <td>kitten</td>\n",
       "      <td>True</td>\n",
       "    </tr>\n",
       "    <tr>\n",
       "      <th>1</th>\n",
       "      <td>0.4</td>\n",
       "      <td>0.2</td>\n",
       "      <td>kitten</td>\n",
       "      <td>True</td>\n",
       "    </tr>\n",
       "    <tr>\n",
       "      <th>2</th>\n",
       "      <td>0.5</td>\n",
       "      <td>0.3</td>\n",
       "      <td>kitten</td>\n",
       "      <td>True</td>\n",
       "    </tr>\n",
       "    <tr>\n",
       "      <th>3</th>\n",
       "      <td>0.7</td>\n",
       "      <td>0.9</td>\n",
       "      <td>adult</td>\n",
       "      <td>False</td>\n",
       "    </tr>\n",
       "  </tbody>\n",
       "</table>\n",
       "</div>"
      ],
      "text/plain": [
       "   sleep_proportion  grumpy_proportion prediction  bprediction\n",
       "0               0.2                0.3     kitten         True\n",
       "1               0.4                0.2     kitten         True\n",
       "2               0.5                0.3     kitten         True\n",
       "3               0.7                0.9      adult        False"
      ]
     },
     "execution_count": 5,
     "metadata": {},
     "output_type": "execute_result"
    }
   ],
   "source": [
    "df['bprediction']=df['prediction'].apply(lambda x: x=='kitten')\n",
    "df"
   ]
  },
  {
   "cell_type": "code",
   "execution_count": 6,
   "metadata": {},
   "outputs": [
    {
     "data": {
      "text/plain": [
       "array([ True, False])"
      ]
     },
     "execution_count": 6,
     "metadata": {},
     "output_type": "execute_result"
    }
   ],
   "source": [
    "from sklearn.linear_model import Perceptron\n",
    "\n",
    "classifier=Perceptron(max_iter=1000)\n",
    "cmodel=classifier.fit(df[['sleep_proportion','grumpy_proportion']],df['bprediction'])\n",
    "cmodel.predict([[0.3,0.5],[0.7,0.9]])\n"
   ]
  },
  {
   "cell_type": "code",
   "execution_count": 7,
   "metadata": {},
   "outputs": [
    {
     "name": "stdout",
     "output_type": "stream",
     "text": [
      "[[ True  True  True ...  True  True  True]\n",
      " [ True  True  True ...  True  True  True]\n",
      " [ True  True  True ...  True  True  True]\n",
      " ...\n",
      " [False False False ... False False False]\n",
      " [False False False ... False False False]\n",
      " [False False False ... False False False]]\n"
     ]
    },
    {
     "data": {
      "text/plain": [
       "<matplotlib.legend.Legend at 0xb3d4f70>"
      ]
     },
     "execution_count": 7,
     "metadata": {},
     "output_type": "execute_result"
    },
    {
     "data": {
      "image/png": "[encoded data removed]",
      "text/plain": [
       "<Figure size 432x288 with 1 Axes>"
      ]
     },
     "metadata": {
      "needs_background": "light"
     },
     "output_type": "display_data"
    }
   ],
   "source": [
    "import numpy as np \n",
    "\n",
    "\n",
    "\n",
    "x_min,x_max=0,1\n",
    "y_min,y_max=0,1\n",
    "\n",
    "xx,yy=np.meshgrid(np.arange(x_min,x_max,0.001),np.arange(y_min,y_max,0.001))\n",
    "\n",
    "# print(xx)\n",
    "# print(yy)\n",
    "xx_lin=xx.ravel()\n",
    "yy_lin=yy.ravel()\n",
    "# print(xx,'\\n',yy)\n",
    "ip=np.c_[xx_lin,yy_lin]\n",
    "# print(ip)\n",
    "z=cmodel.predict(ip)\n",
    "z=z.reshape(xx.shape)\n",
    "print(z)\n",
    "plt.contourf(xx,yy,z,cmap=plt.cm.Pastel1)\n",
    "\n",
    "\n",
    "plt.scatter(kittens['sleep_proportion'],kittens['grumpy_proportion'],color='r',label='kittens')\n",
    "plt.scatter(adults['sleep_proportion'],adults['grumpy_proportion'],label='adults',color='b')\n",
    "plt.axis([0,1,0,1])\n",
    "plt.xlabel('sleep_proportion')\n",
    "plt.ylabel('grumpy_proportion')\n",
    "plt.grid(color='g')\n",
    "plt.legend()\n",
    "# print(z)"
   ]
  },
  {
   "cell_type": "code",
   "execution_count": 8,
   "metadata": {},
   "outputs": [
    {
     "data": {
      "text/plain": [
       "array([[1, 0],\n",
       "       [0, 3]], dtype=int64)"
      ]
     },
     "execution_count": 8,
     "metadata": {},
     "output_type": "execute_result"
    }
   ],
   "source": [
    "# Confusion matrix\n",
    "from sklearn.metrics import confusion_matrix\n",
    "actual=df['bprediction']\n",
    "pred=cmodel.predict(df[['sleep_proportion','grumpy_proportion']])\n",
    "confusion_matrix(actual,pred)"
   ]
  },
  {
   "cell_type": "code",
   "execution_count": 9,
   "metadata": {},
   "outputs": [
    {
     "data": {
      "text/plain": [
       "<matplotlib.axes._subplots.AxesSubplot at 0xd594040>"
      ]
     },
     "execution_count": 9,
     "metadata": {},
     "output_type": "execute_result"
    },
    {
     "data": {
      "image/png": "[encoded data removed]",
      "text/plain": [
       "<Figure size 432x288 with 2 Axes>"
      ]
     },
     "metadata": {
      "needs_background": "light"
     },
     "output_type": "display_data"
    }
   ],
   "source": [
    "import seaborn as sb\n",
    "from sklearn import metrics\n",
    "sb.heatmap(metrics.confusion_matrix(actual,pred),annot=True)"
   ]
  },
  {
   "cell_type": "code",
   "execution_count": 10,
   "metadata": {},
   "outputs": [
    {
     "name": "stdout",
     "output_type": "stream",
     "text": [
      "              precision    recall  f1-score   support\n",
      "\n",
      "         cat       1.00      1.00      1.00         1\n",
      "         dog       1.00      1.00      1.00         3\n",
      "\n",
      "    accuracy                           1.00         4\n",
      "   macro avg       1.00      1.00      1.00         4\n",
      "weighted avg       1.00      1.00      1.00         4\n",
      "\n"
     ]
    }
   ],
   "source": [
    "from sklearn.metrics import classification_report\n",
    "actual=df['bprediction']\n",
    "pred=cmodel.predict(df[['sleep_proportion','grumpy_proportion']])\n",
    "print(classification_report(actual,pred,target_names=['cat','dog']))"
   ]
  },
  {
   "cell_type": "markdown",
   "metadata": {},
   "source": [
    "# Confussion Matrix\n",
    " In this type of matrix we have rows as predicted vaules of output. In columns are actual values of output.\n",
    " \n",
    " This matrix has two rows and two columns.  "
   ]
  },
  {
   "cell_type": "markdown",
   "metadata": {},
   "source": [
    "# SVM: Support Vector Machine\n",
    "\n",
    "multiclass \n",
    "\n",
    "svm has the classifications svc and svr\n",
    "\n",
    "\n",
    "\n",
    "it has itterations\n",
    "\n",
    "svm draw three types of fits  \n",
    "    linear  \n",
    "    poly  \n",
    "    rbg  \n",
    "kernal train  \n"
   ]
  },
  {
   "cell_type": "code",
   "execution_count": 11,
   "metadata": {},
   "outputs": [
    {
     "name": "stdout",
     "output_type": "stream",
     "text": [
      "              precision    recall  f1-score   support\n",
      "\n",
      "         cat       0.50      0.50      0.50         2\n",
      "         dog       0.67      0.67      0.67         3\n",
      "\n",
      "    accuracy                           0.60         5\n",
      "   macro avg       0.58      0.58      0.58         5\n",
      "weighted avg       0.60      0.60      0.60         5\n",
      "\n"
     ]
    }
   ],
   "source": [
    "from sklearn.metrics import classification_report\n",
    "actual=['dog','cat','dog','dog','cat']\n",
    "pred=['dog','dog','dog','cat','cat']\n",
    "print(classification_report(actual,pred,target_names=['cat','dog']))"
   ]
  },
  {
   "cell_type": "markdown",
   "metadata": {},
   "source": [
    "precision=TP/TP+FP(CAT)      TN/(TN+FN) (DOG)  \n",
    " RECAL=TP/TP+FN(CAT)    TN/TN+FP(DOG)  \n",
    " F1 SCORE: 2*(precision*recal/precision+recal)  "
   ]
  },
  {
   "cell_type": "code",
   "execution_count": 12,
   "metadata": {},
   "outputs": [
    {
     "name": "stdout",
     "output_type": "stream",
     "text": [
      "[[ True  True  True ...  True  True  True]\n",
      " [ True  True  True ...  True  True  True]\n",
      " [ True  True  True ...  True  True  True]\n",
      " ...\n",
      " [False False False ... False False False]\n",
      " [False False False ... False False False]\n",
      " [False False False ... False False False]]\n"
     ]
    },
    {
     "data": {
      "image/png": "[encoded data removed]",
      "text/plain": [
       "<Figure size 432x288 with 1 Axes>"
      ]
     },
     "metadata": {
      "needs_background": "light"
     },
     "output_type": "display_data"
    }
   ],
   "source": [
    "from sklearn.svm import SVC\n",
    "SVCClassifier=SVC(kernel='linear',C=100,max_iter=3)\n",
    "SVCmodel=SVCClassifier.fit(df[['sleep_proportion','grumpy_proportion']],df['bprediction'])\n",
    "\n",
    "\n",
    "\n",
    "import numpy as np \n",
    "\n",
    "\n",
    "\n",
    "x_min,x_max=0,1\n",
    "y_min,y_max=0,1\n",
    "\n",
    "xx,yy=np.meshgrid(np.arange(x_min,x_max,0.001),np.arange(y_min,y_max,0.001))\n",
    "\n",
    "# print(xx)\n",
    "# print(yy)\n",
    "xx_lin=xx.ravel()\n",
    "yy_lin=yy.ravel()\n",
    "# print(xx,'\\n',yy)\n",
    "ip=np.c_[xx_lin,yy_lin]\n",
    "# print(ip)\n",
    "z=SVCmodel.predict(ip)\n",
    "z=z.reshape(xx.shape)\n",
    "# print(z)\n",
    "plt.contourf(xx,yy,z,cmap=plt.cm.Pastel1)\n",
    "\n",
    "\n",
    "plt.scatter(kittens['sleep_proportion'],kittens['grumpy_proportion'],color='r',label='kittens')\n",
    "plt.scatter(adults['sleep_proportion'],adults['grumpy_proportion'],label='adults',color='b')\n",
    "plt.axis([0,1,0,1])\n",
    "plt.xlabel('sleep_proportion')\n",
    "plt.ylabel('grumpy_proportion')\n",
    "plt.grid(color='g')\n",
    "plt.legend()\n",
    "print(z)"
   ]
  },
  {
   "cell_type": "code",
   "execution_count": 13,
   "metadata": {},
   "outputs": [
    {
     "data": {
      "text/plain": [
       "<matplotlib.axes._subplots.AxesSubplot at 0xc374550>"
      ]
     },
     "execution_count": 13,
     "metadata": {},
     "output_type": "execute_result"
    },
    {
     "data": {
      "image/png": "[encoded data removed]",
      "text/plain": [
       "<Figure size 432x288 with 2 Axes>"
      ]
     },
     "metadata": {
      "needs_background": "light"
     },
     "output_type": "display_data"
    }
   ],
   "source": [
    "import seaborn as sb\n",
    "from sklearn import metrics\n",
    "sb.heatmap(metrics.confusion_matrix(actual,pred),annot=True)"
   ]
  }
 ],
 "metadata": {
  "kernelspec": {
   "display_name": "Python 3",
   "language": "python",
   "name": "python3"
  },
  "language_info": {
   "codemirror_mode": {
    "name": "ipython",
    "version": 3
   },
   "file_extension": ".py",
   "mimetype": "text/x-python",
   "name": "python",
   "nbconvert_exporter": "python",
   "pygments_lexer": "ipython3",
   "version": "3.8.3"
  }
 },
 "nbformat": 4,
 "nbformat_minor": 2
}
